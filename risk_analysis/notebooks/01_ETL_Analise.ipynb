import pandas as pd
import numpy as np
import matplotlib.pyplot as plt
import seaborn as sns

# Carregar dados
prices = pd.read_parquet('data/processed/prices.parquet')
returns = pd.read_parquet('data/processed/returns_simple.parquet')

print("📊 DIMENSÕES DOS DADOS:")
print(f"Preços: {prices.shape}")
print(f"Retornos: {returns.shape}")

print("\n📅 PERÍODO:")
print(f"De: {prices.index[0]}")
print(f"Até: {prices.index[-1]}")

print("\n📈 RETORNOS ANUALIZADOS:")
annual_returns = returns.mean() * 252
print(annual_returns.round(4))

# Plot simples
plt.figure(figsize=(12, 6))
prices.div(prices.iloc[0]).plot(title='Evolução dos Preços (Normalizado)')
plt.show()
